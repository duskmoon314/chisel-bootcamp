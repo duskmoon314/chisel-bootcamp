{
 "cells": [
  {
   "cell_type": "markdown",
   "metadata": {},
   "source": [
    "<a name=\"top\"></a><img src=\"images/chisel_1024.png\" alt=\"Chisel logo\" style=\"width:480px;\" />"
   ]
  },
  {
   "cell_type": "markdown",
   "metadata": {
    "collapsed": true
   },
   "source": [
    "# 模块 2.2: 组合逻辑\n",
    "**上一节: [你的第一个 Chisel 模块](2.1_first_module_zh.ipynb)**<br>\n",
    "**下一节: [控制流](2.3_control_flow_zh.ipynb)**\n",
    "\n",
    "## 动机\n",
    "\n",
    "在本节中，您将看到如何使用Chisel组件来实现组合逻辑。\n",
    "\n",
    "我们将演示三种基本的 Chisel 类型：`UInt` -- 无符号整数；`SInt` -- 有符号整数；`Bool` -- true 或 false 如何被连接和操作。\n",
    "\n",
    "注意所有的 Chisel 变量都声明为 Scala 的 `val`。\n",
    "\n",
    "永远不要将 Scala 的 `var`用于硬件构造体，因为构造体本身一旦被定义就永远不会改变，只有它的值在运行硬件时才会改变。\n",
    "\n",
    "线路可以用参数化的类型。\n",
    "\n",
    "## 设置"
   ]
  },
  {
   "cell_type": "code",
   "execution_count": 1,
   "metadata": {},
   "outputs": [
    {
     "output_type": "execute_result",
     "data": {
      "text/plain": [
       "\u001b[36mpath\u001b[39m: \u001b[32mString\u001b[39m = \u001b[32m\"/chisel-bootcamp/source/load-ivy.sc\"\u001b[39m"
      ]
     },
     "metadata": {},
     "execution_count": 1
    }
   ],
   "source": [
    "val path = System.getProperty(\"user.dir\") + \"/source/load-ivy.sc\"\n",
    "interp.load.module(ammonite.ops.Path(java.nio.file.FileSystems.getDefault().getPath(path)))"
   ]
  },
  {
   "cell_type": "code",
   "execution_count": 2,
   "metadata": {},
   "outputs": [
    {
     "output_type": "execute_result",
     "data": {
      "text/plain": [
       "\u001b[32mimport \u001b[39m\u001b[36mchisel3._\n",
       "\u001b[39m\n",
       "\u001b[32mimport \u001b[39m\u001b[36mchisel3.util._\n",
       "\u001b[39m\n",
       "\u001b[32mimport \u001b[39m\u001b[36mchisel3.tester._\n",
       "\u001b[39m\n",
       "\u001b[32mimport \u001b[39m\u001b[36mchisel3.tester.RawTester.test\u001b[39m"
      ]
     },
     "metadata": {},
     "execution_count": 2
    }
   ],
   "source": [
    "import chisel3._\n",
    "import chisel3.util._\n",
    "import chisel3.tester._\n",
    "import chisel3.tester.RawTester.test"
   ]
  },
  {
   "cell_type": "markdown",
   "metadata": {},
   "source": [
    "---\n",
    "# 常见的运算符\n",
    "\n",
    "现在你已经了解了 `Module` 是如何构造的，让我们来实现一些硬件吧! 看看下面的空模块。"
   ]
  },
  {
   "cell_type": "code",
   "execution_count": 3,
   "metadata": {},
   "outputs": [
    {
     "output_type": "execute_result",
     "data": {
      "text/plain": [
       "defined \u001b[32mclass\u001b[39m \u001b[36mMyModule\u001b[39m"
      ]
     },
     "metadata": {},
     "execution_count": 3
    }
   ],
   "source": [
    "class MyModule extends Module {\n",
    "  val io = IO(new Bundle {\n",
    "    val in  = Input(UInt(4.W))\n",
    "    val out = Output(UInt(4.W))\n",
    "  })\n",
    "}"
   ]
  },
  {
   "cell_type": "markdown",
   "metadata": {},
   "source": [
    "我们把我们的类叫做 `MyModule`，它基于 `Module`，这意味着它在 Verilog 中被映射到一个硬件模块。我们的 `MyModule` 模块有一个输入和一个输出。输入是一个4位无符号整数 (`UInt`)，输出也是如此。\n",
    "\n",
    "<span style=\"color:blue\">**示例: Scala 和 Chisel 运算符看起来一样**</span><br>\n",
    "\n",
    "让我们看看可以对数据进行的不同操作。"
   ]
  },
  {
   "cell_type": "code",
   "execution_count": 4,
   "metadata": {},
   "outputs": [
    {
     "output_type": "stream",
     "name": "stdout",
     "text": [
      "Elaborating design...\n",
      "2\n",
      "UInt<1>(OpResult in MyModule)\n",
      "Done elaborating.\n",
      "module MyModule(\n",
      "  input        clock,\n",
      "  input        reset,\n",
      "  input  [3:0] io_in,\n",
      "  output [3:0] io_out\n",
      ");\n",
      "  assign io_out = io_in; // @[cmd3.sc 12:10]\n",
      "endmodule\n",
      "\n"
     ]
    },
    {
     "output_type": "execute_result",
     "data": {
      "text/plain": [
       "defined \u001b[32mclass\u001b[39m \u001b[36mMyModule\u001b[39m"
      ]
     },
     "metadata": {},
     "execution_count": 4
    }
   ],
   "source": [
    "class MyModule extends Module {\n",
    "  val io = IO(new Bundle {\n",
    "    val in  = Input(UInt(4.W))\n",
    "    val out = Output(UInt(4.W))\n",
    "  })\n",
    "\n",
    "  val two  = 1 + 1\n",
    "  println(two)\n",
    "  val utwo = 1.U + 1.U\n",
    "  println(utwo)\n",
    "  \n",
    "  io.out := io.in\n",
    "}\n",
    "println(getVerilog(new MyModule))"
   ]
  },
  {
   "cell_type": "markdown",
   "metadata": {},
   "source": [
    "我们创建了两个 `val`。第一个将两个 Scala 的 `Int` 加起来，所以 `println` 打印出了整数 2。第二个 `val` 将两个 *Chisel* 的 `UInt` 加在一起，所以 `println` 将其视为一个硬件节点并打印出类型名称和指针（`chisel3.core.UInt@d`）。注意，`1.U` 是一个从 Scala 的 `Int` (1) 到 Chisel 的 `UInt` 的字面类型转换。\n",
    "\n",
    "我们需要驱动输出的东西，所以我们现在只是把它和输入连接起来，就像前面的教程中的直通模块一样。\n",
    "\n",
    "<span style=\"color:blue\">**示例：不兼容的操作**</span>\n",
    "\n",
    "如果我们在字面 `1` 上加一个 Chisel `1.U` 会发生什么？这些类型是不兼容的，因为后者是一个值为 1 的硬件线，而前者是一个值为 1 的 Scala，所以 Chisel 会给出一个类型不匹配的错误。"
   ]
  },
  {
   "cell_type": "code",
   "execution_count": 5,
   "metadata": {},
   "outputs": [
    {
     "output_type": "stream",
     "name": "stderr",
     "text": [
      "cmd4.sc:7: type mismatch;\n",
      " found   : Int(1)\n",
      " required: chisel3.UInt\n",
      "  val twotwo = 1.U + 1\n",
      "                     ^Compilation Failed"
     ]
    },
    {
     "output_type": "error",
     "ename": "",
     "evalue": "",
     "traceback": [
      "Compilation Failed"
     ]
    }
   ],
   "source": [
    "class MyModuleTwo extends Module {\n",
    "  val io = IO(new Bundle {\n",
    "    val in  = Input(UInt(4.W))\n",
    "    val out = Output(UInt(4.W))\n",
    "  })\n",
    "\n",
    "  val twotwo = 1.U + 1\n",
    "  println(twotwo)\n",
    "  \n",
    "  io.out := io.in\n",
    "}\n",
    "println(getVerilog(new MyModuleTwo))"
   ]
  },
  {
   "cell_type": "markdown",
   "metadata": {},
   "source": [
    "在执行操作时，记住类型之间的区别是很重要的。Scala 是一种强类型的语言，所以任何类型的转换都必须是显式的。\n",
    "\n",
    "<span style=\"color:blue\">**示例：更多 Chisel 操作符**</span>\n",
    "\n",
    "其他常见的操作是减法和乘法。这些都是对无符号整数的处理，正如预期的那样。让我们看看这些操作的效果。我们展示的是 Verilog，尽管有一些底层的 Chisel 特性混淆了我们期望的简单代码。"
   ]
  },
  {
   "cell_type": "code",
   "execution_count": 5,
   "metadata": {},
   "outputs": [
    {
     "output_type": "stream",
     "name": "stdout",
     "text": [
      "Elaborating design...\n",
      "Done elaborating.\n",
      "module MyOperators(\n",
      "  input        clock,\n",
      "  input        reset,\n",
      "  input  [3:0] io_in,\n",
      "  output [3:0] io_out_add,\n",
      "  output [3:0] io_out_sub,\n",
      "  output [3:0] io_out_mul\n",
      ");\n",
      "  wire [1:0] _T_3 = 2'h2 - 2'h1; // @[cmd4.sc 10:21]\n",
      "  wire [4:0] _T_4 = 3'h4 * 2'h2; // @[cmd4.sc 11:21]\n",
      "  assign io_out_add = 4'h5; // @[cmd4.sc 9:21]\n",
      "  assign io_out_sub = {{2'd0}, _T_3}; // @[cmd4.sc 10:21]\n",
      "  assign io_out_mul = _T_4[3:0]; // @[cmd4.sc 11:14]\n",
      "endmodule\n",
      "\n"
     ]
    },
    {
     "output_type": "execute_result",
     "data": {
      "text/plain": [
       "defined \u001b[32mclass\u001b[39m \u001b[36mMyOperators\u001b[39m"
      ]
     },
     "metadata": {},
     "execution_count": 5
    }
   ],
   "source": [
    "class MyOperators extends Module {\n",
    "  val io = IO(new Bundle {\n",
    "    val in      = Input(UInt(4.W))\n",
    "    val out_add = Output(UInt(4.W))\n",
    "    val out_sub = Output(UInt(4.W))\n",
    "    val out_mul = Output(UInt(4.W))\n",
    "  })\n",
    "\n",
    "  io.out_add := 1.U + 4.U\n",
    "  io.out_sub := 2.U - 1.U\n",
    "  io.out_mul := 4.U * 2.U\n",
    "}\n",
    "println(getVerilog(new MyOperators))"
   ]
  },
  {
   "cell_type": "markdown",
   "metadata": {},
   "source": [
    "而这里是一个用于上述操作的测试。我们将创建一个显式的测试类，而不是像上一个教程中那样使用一个匿名的测试类。这只是编写测试的另一种方法。"
   ]
  },
  {
   "cell_type": "code",
   "execution_count": 6,
   "metadata": {},
   "outputs": [
    {
     "output_type": "stream",
     "name": "stdout",
     "text": [
      "Elaborating design...\n",
      "Done elaborating.\n",
      "test MyOperators Success: 0 tests passed in 2 cycles in 0.064905 seconds 30.81 Hz\n",
      "SUCCESS!!\n"
     ]
    }
   ],
   "source": [
    "test(new MyOperators) {c =>\n",
    "  c.io.out_add.expect(5.U)\n",
    "  c.io.out_sub.expect(1.U)\n",
    "  c.io.out_mul.expect(8.U)\n",
    "}\n",
    "println(\"SUCCESS!!\")"
   ]
  },
  {
   "cell_type": "markdown",
   "metadata": {},
   "source": [
    "<span style=\"color:blue\">**示例：Mux和Concatenation**</span>\n",
    "\n",
    "除了加法、减法和乘法之外，Chisel 还有 mux 和 concatenation 运算符。这些运算符如下所示。`Mux` 的操作类似于传统的三元运算符，其顺序是（条件，如果为真，如果为假）。注意，`true.B` 和 `false.B` 是创建 Chisel Bool 字面的首选方式。`Cat` 顺序是先 MSB 后 LSB（其中 B 指的是位或比特），并且只需要两个参数。连接两个以上的值需要多次调用 `Cat` 或后面章节中涉及的 Chisel 和 Scala 高级功能。\n"
   ]
  },
  {
   "cell_type": "code",
   "execution_count": 7,
   "metadata": {},
   "outputs": [
    {
     "output_type": "stream",
     "name": "stdout",
     "text": [
      "Elaborating design...\n",
      "Done elaborating.\n",
      "module MyOperatorsTwo(\n",
      "  input        clock,\n",
      "  input        reset,\n",
      "  input  [3:0] io_in,\n",
      "  output [3:0] io_out_mux,\n",
      "  output [3:0] io_out_cat\n",
      ");\n",
      "  assign io_out_mux = 4'h3; // @[cmd6.sc 9:20]\n",
      "  assign io_out_cat = 4'h5; // @[Cat.scala 30:58]\n",
      "endmodule\n",
      "\n",
      "Elaborating design...\n",
      "Done elaborating.\n",
      "test MyOperatorsTwo Success: 0 tests passed in 2 cycles in 0.004082 seconds 489.98 Hz\n",
      "SUCCESS!!\n"
     ]
    },
    {
     "output_type": "execute_result",
     "data": {
      "text/plain": [
       "defined \u001b[32mclass\u001b[39m \u001b[36mMyOperatorsTwo\u001b[39m"
      ]
     },
     "metadata": {},
     "execution_count": 7
    }
   ],
   "source": [
    "class MyOperatorsTwo extends Module {\n",
    "  val io = IO(new Bundle {\n",
    "    val in      = Input(UInt(4.W))\n",
    "    val out_mux = Output(UInt(4.W))\n",
    "    val out_cat = Output(UInt(4.W))\n",
    "  })\n",
    "\n",
    "  val s = true.B\n",
    "  io.out_mux := Mux(s, 3.U, 0.U) // should return 3.U, since s is true\n",
    "  io.out_cat := Cat(2.U, 1.U)    // concatenates 2 (b10) with 1 (b1) to give 5 (101)\n",
    "}\n",
    "\n",
    "println(getVerilog(new MyOperatorsTwo))\n",
    "\n",
    "test(new MyOperatorsTwo) { c =>\n",
    "  c.io.out_mux.expect(3.U)\n",
    "  c.io.out_cat.expect(5.U)\n",
    "}\n",
    "println(\"SUCCESS!!\")"
   ]
  },
  {
   "cell_type": "markdown",
   "metadata": {
    "collapsed": true
   },
   "source": [
    "请注意 Verilog 使用常数而不是实际的多路复用或连接逻辑。这是因为 FIRRTL 转换已经简化了电路，消除了明显的逻辑。\n",
    "\n",
    "关于 Chisel 运算符的更完整的列表，请参阅 [Chisel cheatsheet](https://github.com/freechipsproject/chisel-cheatsheet/releases/latest/download/chisel_cheatsheet.pdf)。对于最完整的运算符列表和它们的实现细节，请查看 [Chisel API](https://chisel-lang.org/api/latest/)。"
   ]
  },
  {
   "cell_type": "markdown",
   "metadata": {},
   "source": [
    "---\n",
    "# Exercises\n",
    "To complete these exercises, you may need to look through the [Chisel cheatsheet](https://github.com/freechipsproject/chisel-cheatsheet/releases/latest/download/chisel_cheatsheet.pdf)."
   ]
  },
  {
   "cell_type": "markdown",
   "metadata": {},
   "source": [
    "<span style=\"color:red\">**Exercise: MAC**</span><br>\n",
    "Create a Chisel module that implements the multiply accumulate function, `(A*B)+C`, and passes the testbench."
   ]
  },
  {
   "cell_type": "code",
   "execution_count": null,
   "metadata": {},
   "outputs": [],
   "source": [
    "class MAC extends Module {\n",
    "  val io = IO(new Bundle {\n",
    "    val in_a = Input(UInt(4.W))\n",
    "    val in_b = Input(UInt(4.W))\n",
    "    val in_c = Input(UInt(4.W))\n",
    "    val out  = Output(UInt(8.W))\n",
    "  })\n",
    "\n",
    "  ???\n",
    "}\n",
    "\n",
    "test(new MAC) { c =>\n",
    "  val cycles = 100\n",
    "  import scala.util.Random\n",
    "  for (i <- 0 until cycles) {\n",
    "    val in_a = Random.nextInt(16)\n",
    "    val in_b = Random.nextInt(16)\n",
    "    val in_c = Random.nextInt(16)\n",
    "    c.io.in_a.poke(in_a.U)\n",
    "    c.io.in_b.poke(in_b.U)\n",
    "    c.io.in_c.poke(in_c.U)\n",
    "    c.io.out.expect((in_a * in_b + in_c).U)\n",
    "  }\n",
    "}\n",
    "println(\"SUCCESS!!\")"
   ]
  },
  {
   "cell_type": "markdown",
   "metadata": {},
   "source": [
    "<div id=\"container\"><section id=\"accordion\"><div>\n",
    "<input type=\"checkbox\" id=\"check-1\" />\n",
    "<label for=\"check-1\"><strong>Solution</strong></label>\n",
    "<article>\n",
    "<pre style=\"background-color:#f7f7f7\">\n",
    "class MAC extends Module {\n",
    "  val io = IO(new Bundle {\n",
    "    val in_a = Input(UInt(4.W))\n",
    "    val in_b = Input(UInt(4.W))\n",
    "    val in_c = Input(UInt(4.W))\n",
    "    val out  = Output(UInt(8.W))\n",
    "  })\n",
    "\n",
    "  io.out := (io.in_a * io.in_b) + io.in_c\n",
    "}\n",
    "</pre></article></div></section></div>"
   ]
  },
  {
   "cell_type": "markdown",
   "metadata": {
    "collapsed": true
   },
   "source": [
    "<span style=\"color:red\">**Exercise: Arbiter**</span><br>\n",
    "The following circuit arbitrates data coming from a FIFO into two parallel processing units. The FIFO and processing elements (PEs) communicate with ready-valid interfaces. Construct the arbiter to send data to whichever PE is ready to receive data, prioritizing PE0 if both are ready to receive data. Remember that the arbiter should tell the FIFO that it's ready to receive data when at least one of the PEs can receive data. Also, wait for a PE to assert that it's ready before asserting that the data are valid. You will likely need binary operators to complete this exercise.\n",
    "\n",
    "<img src=\"images/arbiter.png\" width=\"687\" height=\"177\">"
   ]
  },
  {
   "cell_type": "code",
   "execution_count": null,
   "metadata": {},
   "outputs": [],
   "source": [
    "class Arbiter extends Module {\n",
    "  val io = IO(new Bundle {\n",
    "    // FIFO\n",
    "    val fifo_valid = Input(Bool())\n",
    "    val fifo_ready = Output(Bool())\n",
    "    val fifo_data  = Input(UInt(16.W))\n",
    "    \n",
    "    // PE0\n",
    "    val pe0_valid  = Output(Bool())\n",
    "    val pe0_ready  = Input(Bool())\n",
    "    val pe0_data   = Output(UInt(16.W))\n",
    "    \n",
    "    // PE1\n",
    "    val pe1_valid  = Output(Bool())\n",
    "    val pe1_ready  = Input(Bool())\n",
    "    val pe1_data   = Output(UInt(16.W))\n",
    "  })\n",
    "\n",
    "  ???\n",
    "}\n",
    "\n",
    "test(new Arbiter) { c =>\n",
    "  import scala.util.Random\n",
    "  val data = Random.nextInt(65536)\n",
    "  c.io.fifo_data.poke(data.U)\n",
    "  \n",
    "  for (i <- 0 until 8) {\n",
    "    c.io.fifo_valid.poke((((i >> 0) % 2) != 0).B)\n",
    "    c.io.pe0_ready.poke((((i >> 1) % 2) != 0).B)\n",
    "    c.io.pe1_ready.poke((((i >> 2) % 2) != 0).B)\n",
    "\n",
    "    c.io.fifo_ready.expect((i > 1).B)\n",
    "    c.io.pe0_valid.expect((i == 3 || i == 7).B)\n",
    "    c.io.pe1_valid.expect((i == 5).B)\n",
    "    \n",
    "    if (i == 3 || i ==7) {\n",
    "      c.io.pe0_data.expect((data).U)\n",
    "    } else if (i == 5) {\n",
    "      c.io.pe1_data.expect((data).U)\n",
    "    }\n",
    "  }\n",
    "}\n",
    "println(\"SUCCESS!!\")"
   ]
  },
  {
   "cell_type": "markdown",
   "metadata": {},
   "source": [
    "<div id=\"container\"><section id=\"accordion\"><div>\n",
    "<input type=\"checkbox\" id=\"check-2\" />\n",
    "<label for=\"check-2\"><strong>Solution</strong></label>\n",
    "<article>\n",
    "<pre style=\"background-color:#f7f7f7\">\n",
    "  io.fifo_ready := io.pe0_ready || io.pe1_ready\n",
    "  io.pe0_valid := io.fifo_valid && io.pe0_ready\n",
    "  io.pe1_valid := io.fifo_valid && io.pe1_ready && !io.pe0_ready\n",
    "  io.pe0_data := io.fifo_data\n",
    "  io.pe1_data := io.fifo_data\n",
    "</pre></article></div></section></div>"
   ]
  },
  {
   "cell_type": "markdown",
   "metadata": {},
   "source": [
    "<span style=\"color:red\">**Exercise: Parameterized Adder (Optional)**</span><br>\n",
    "This optional exercise exposes you to one of the most powerful features of Chisel, it's parameterization capabilities. To demonstrate this, we'll construct a parameterized adder that can either saturate the output when overflow occurs, or truncate the results (i.e. wrap around).\n",
    "\n",
    "First, look at the `Module` below. The parameter we pass into it is called `saturate` and has type *Scala* `Boolean`. This is not a Chisel `Bool`. So, we're not creating a single hardware adder that can either saturate or truncate, but rather we're creating a *generator* that produces either a saturating hardware adder *or* a truncating hardware adder. The decision is made at compile time.\n",
    "\n",
    "Next, notice the inputs and outputs are all 4-bit `UInt`s. Chisel has built-in width inferencing, and if you look at the [cheatsheet](https://github.com/freechipsproject/chisel-cheatsheet/releases/latest/download/chisel_cheatsheet.pdf), you'll see that the bitwidth of a normal summation is equal to the maximum bitwidth of the two inputs. This means that\n",
    "\n",
    "```scala\n",
    "val sum = io.in_a + io.in_b\n",
    "```\n",
    "\n",
    "will make `sum` a 4-bit wire, and the value will be the truncated result for 4-bit inputs. To check if the summation should saturate, you need to place the result in a 5-bit wire. This can be done with the `+&` summation, as seen on the cheatsheet.\n",
    "\n",
    "```scala\n",
    "val sum = io.in_a +& io.in_b\n",
    "```\n",
    "\n",
    "Finally, note that connecting a 4-bit `UInt` wire to a 5-bit `UInt` wire will truncate the MSB by default. You can use this to easily truncate the 5-bit sum for the non-saturating adder."
   ]
  },
  {
   "cell_type": "code",
   "execution_count": null,
   "metadata": {},
   "outputs": [],
   "source": [
    "class ParameterizedAdder(saturate: Boolean) extends Module {\n",
    "  val io = IO(new Bundle {\n",
    "    val in_a = Input(UInt(4.W))\n",
    "    val in_b = Input(UInt(4.W))\n",
    "    val out  = Output(UInt(4.W))\n",
    "  })\n",
    "\n",
    "  ???\n",
    "}\n",
    "\n",
    "for (saturate <- Seq(true, false)) {\n",
    "  test(new ParameterizedAdder(saturate)) { c =>\n",
    "    // 100 random tests\n",
    "    val cycles = 100\n",
    "    import scala.util.Random\n",
    "    import scala.math.min\n",
    "    for (i <- 0 until cycles) {\n",
    "      val in_a = Random.nextInt(16)\n",
    "      val in_b = Random.nextInt(16)\n",
    "      c.io.in_a.poke(in_a.U)\n",
    "      c.io.in_b.poke(in_b.U)\n",
    "      if (saturate) {\n",
    "        c.io.out.expect(min(in_a + in_b, 15).U)\n",
    "      } else {\n",
    "        c.io.out.expect(((in_a + in_b) % 16).U)\n",
    "      }\n",
    "    }\n",
    "    \n",
    "    // ensure we test saturation vs. truncation\n",
    "    c.io.in_a.poke(15.U)\n",
    "    c.io.in_b.poke(15.U)\n",
    "    if (saturate) {\n",
    "      c.io.out.expect(15.U)\n",
    "    } else {\n",
    "      c.io.out.expect(14.U)\n",
    "    }\n",
    "  }\n",
    "}\n",
    "println(\"SUCCESS!!\")"
   ]
  },
  {
   "cell_type": "markdown",
   "metadata": {},
   "source": [
    "<div id=\"container\"><section id=\"accordion\"><div>\n",
    "<input type=\"checkbox\" id=\"check-3\" />\n",
    "<label for=\"check-3\"><strong>Solution</strong></label>\n",
    "<article>\n",
    "<pre style=\"background-color:#f7f7f7\">\n",
    "  val sum = io.in_a +& io.in_b\n",
    "  if (saturate) {\n",
    "    io.out := Mux(sum > 15.U, 15.U, sum)\n",
    "  } else {\n",
    "    io.out := sum\n",
    "  }\n",
    "</pre></article></div></section></div>"
   ]
  },
  {
   "cell_type": "markdown",
   "metadata": {},
   "source": [
    "---\n",
    "# You're done!\n",
    "\n",
    "[Return to the top.](#top)"
   ]
  }
 ],
 "metadata": {
  "kernelspec": {
   "display_name": "Scala",
   "language": "scala",
   "name": "scala"
  },
  "language_info": {
   "codemirror_mode": "text/x-scala",
   "file_extension": ".scala",
   "mimetype": "text/x-scala",
   "name": "scala",
   "nbconvert_exporter": "script",
   "version": "2.12.10"
  }
 },
 "nbformat": 4,
 "nbformat_minor": 2
}