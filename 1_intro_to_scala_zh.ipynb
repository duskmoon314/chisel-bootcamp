{
 "cells": [
  {
   "cell_type": "markdown",
   "metadata": {},
   "source": [
    "<a name=\"top\"></a><img src=\"images/chisel_1024.png\" alt=\"Chisel logo\" style=\"width:480px;\" />"
   ]
  },
  {
   "cell_type": "markdown",
   "metadata": {},
   "source": [
    "# 模块 1: Scala 简介\n",
    "**下一节: [你的第一个 Chisel 模块](2.1_first_module_zh.ipynb)**\n",
    "\n",
    "## 动机\n",
    "\n",
    "这些教程使用 *Jupyter* 笔记本环境，因此您可以读取代码、进行修改并运行。我们鼓励您尝试使用这些教程代码块，以更快地掌握 Chisel。\n",
    "\n",
    "在第一个模块中，您将学习如何编写基本的 Scala 代码，以及如何阅读更高级的 Scala 代码。"
   ]
  },
  {
   "cell_type": "markdown",
   "metadata": {},
   "source": [
    "---\n",
    "# 了解 Scala\n",
    "\n",
    "Scala 是一种支持常见编程范式的编程语言。我们选择使用它有以下几点原因：\n",
    "\n",
    "- 它是一种很好的托管嵌入式 DSL 的语言。\n",
    "- 它有一个强大而不失优雅的库，用于操作各种数据集合。\n",
    "- 它有一个严格的类型系统，有助于在开发的早期（即编译期）捕获一大类错误。\n",
    "- 它有强大的表达和传递函数的方法。\n",
    "- Chi*p*el、 Chi*j*el 和 Chi*c*el 不如 Chisel 顺口.\n",
    "\n",
    "所有这些观点都将在之后讨论 Chisel 时进一步凸显。但现在，我们将专注于阅读和编写 Scala 代码的基础知识。"
   ]
  },
  {
   "cell_type": "markdown",
   "metadata": {},
   "source": [
    "---\n",
    "# 变量和常量 - var 和 val\n",
    "\n",
    "创建（可变）变量和常量值（不可变变量）的语句前分别使用关键字 *var* 和 *val*。通常的做法是尽可能使用 *val*。为何？主要是为了减少重复使用变量的机会，因为这些变量容易出错，或者使您的代码难以阅读。Scala 的结构使得这种做法比你想象的要容易。\n",
    "\n",
    "<span style=\"color:blue\">**示例:**</span>\n",
    "\n",
    "接下来的代码块可以在这里执行，就在这个笔记本里。要运行它，请点击它。当单元格处于活动状态时，它的周围会出现一个左边带有绿色条的框。一旦被选中，就可以使用笔记本顶部的播放按钮运行活动代码块单元格（下面用红色高亮显示以供参考）。\n",
    "\n",
    "![](images/playbutton.png)\n",
    "\n",
    "另外，您还可以使用键盘快捷键。**Shift+enter** 运行当前活动的单元格，并将焦点移动到下一个单元格。**Ctrl+enter** 运行当前单元格并保持其焦点。\n",
    "\n",
    "关键示例以蓝色粗体<span style=\"color:blue\">**示例**</span>开头，而练习则以红色<span style=\"color:red\">**练习**</span>开头。模块1完全由简短的例子组成，所以我们省略了本模块其他部分的例子声明。"
   ]
  },
  {
   "cell_type": "code",
   "execution_count": null,
   "metadata": {},
   "outputs": [],
   "source": [
    "var numberOfKittens = 6\n",
    "val kittensPerHouse = 101\n",
    "val alphabet = \"abcdefghijklmnopqrstuvwxyz\"\n",
    "var done = false"
   ]
  },
  {
   "cell_type": "markdown",
   "metadata": {},
   "source": [
    "首先要注意的是，与Java和C语言不同，Scala一般不要求在语句末尾使用分号。当有换行时，Scala会推断出分号。例如，当一行的最后是一个需要额外代码的操作符时，它通常可以判断一条语句是否分布在多行中。唯一需要分号的时候是当您想把多条语句装在一行上。\n",
    "\n",
    "使用变量的方式很明显：两个 `var` 可以被重新分配，而两个 `val` 一旦创建就不可更改。"
   ]
  },
  {
   "cell_type": "code",
   "execution_count": null,
   "metadata": {},
   "outputs": [],
   "source": [
    "numberOfKittens += 1\n",
    "\n",
    "// kittensPerHouse = kittensPerHouse * 2 // 这无法编译，kittensPerHouse 不可更新\n",
    "\n",
    "println(alphabet)\n",
    "done = true"
   ]
  },
  {
   "cell_type": "markdown",
   "metadata": {},
   "source": [
    "---\n",
    "# 条件分支\n",
    "\n",
    "Scala 像其他编程语言一样有条件分支。"
   ]
  },
  {
   "cell_type": "code",
   "execution_count": null,
   "metadata": {},
   "outputs": [],
   "source": [
    "// 一个简单的条件分支；顺便一提，这是一个注释\n",
    "if (numberOfKittens > kittensPerHouse) { \n",
    "    println(\"Too many kittens!!!\") \n",
    "}\n",
    "// 当所有的分支都是单行时，不需要括号。\n",
    "// 然而 Scala Style Guide 倾向于在包含 `else` 子句的情况下省略括号\n",
    "// (最好不要用这个，尽管可以通过编译...)\n",
    "if (numberOfKittens > kittensPerHouse) \n",
    "    println(\"Too many kittens!!!\")\n",
    "\n",
    "// ifs 当然有 else 子句\n",
    "// 这里可以省略括号！\n",
    "if (done) \n",
    "    println(\"we are done\")\n",
    "else \n",
    "    numberOfKittens += 1\n",
    "\n",
    "// And else ifs\n",
    "// 因为不是所有的分支都是单行的，为统一代码风格，保留了大括号。 \n",
    "if (done) {\n",
    "    println(\"we are done\")\n",
    "}\n",
    "else if (numberOfKittens < kittensPerHouse) {\n",
    "    println(\"more kittens!\")\n",
    "    numberOfKittens += 1\n",
    "}\n",
    "else {\n",
    "    done = true\n",
    "}"
   ]
  },
  {
   "cell_type": "markdown",
   "metadata": {},
   "source": [
    "但在 Scala 中，`if` 条件分支会返回一个值。这个值是什么？它由分支的最后一行给出。这个功能非常强大，尤其是在函数和类中用来初始化值时。它看起来是这样的："
   ]
  },
  {
   "cell_type": "code",
   "execution_count": null,
   "metadata": {},
   "outputs": [],
   "source": [
    "val likelyCharactersSet = if (alphabet.length == 26)\n",
    "    \"english\"\n",
    "else \n",
    "    \"not english\"\n",
    "\n",
    "println(likelyCharactersSet)"
   ]
  },
  {
   "cell_type": "markdown",
   "metadata": {},
   "source": [
    "我们创建了一个常量 `likelyCharactersSet`，其值在运行时根据条件确定。"
   ]
  },
  {
   "cell_type": "markdown",
   "metadata": {},
   "source": [
    "---\n",
    "# 方法 (函数)\n",
    "\n",
    "方法是用关键字 `def` 定义的。 在这里，我们将滥用符号，并将称它们为函数。函数的参数用逗号分隔的列表来指定。该列表指定了参数的名称、类型以及默认值。为了清晰起见，函数的返回类型应被指定。\n",
    "\n",
    "没有任何参数的Scala函数不需要空括号。当一个类的成员成为函数时，由于有一些计算需要引用它，这通常会使开发人员的生活更轻松。按照惯例，没有副作用的无参数函数(即调用它们不会改变任何东西，只是返回一个值)不使用括号，而有副作用的函数(也许它们会改变类变量或打印出一些东西)应该需要括号。\n",
    "\n",
    "## 简单的声明"
   ]
  },
  {
   "cell_type": "code",
   "execution_count": null,
   "metadata": {},
   "outputs": [],
   "source": [
    "// 带有输入参数的简单缩放函数。例如 `times2(3)` 返回 6\n",
    "// 对于简短的单行函数，大括号可以省略\n",
    "def times2(x: Int): Int = 2 * x\n",
    "\n",
    "// 更复杂的函数\n",
    "def distance(x: Int, y: Int, returnPositive: Boolean): Int = {\n",
    "    val xy = x * y\n",
    "    if (returnPositive) xy.abs else -xy.abs\n",
    "}"
   ]
  },
  {
   "cell_type": "markdown",
   "metadata": {},
   "source": [
    "## 函数重载\n",
    "\n",
    "同一个函数名可以多次使用，参数和它们的类型共同决定了一个签名，让编译器知道应该调用哪个版本的函数。不过仍应该避免使用重载函数。"
   ]
  },
  {
   "cell_type": "code",
   "execution_count": null,
   "metadata": {},
   "outputs": [],
   "source": [
    "// 重载函数\n",
    "def times2(x: Int): Int = 2 * x\n",
    "def times2(x: String): Int = 2 * x.toInt\n",
    "\n",
    "times2(5)\n",
    "times2(\"7\")"
   ]
  },
  {
   "cell_type": "markdown",
   "metadata": {},
   "source": [
    "## 递归和嵌套函数\n",
    "\n",
    "大括号定义了代码的作用域。在一个函数的作用域内可能存在多个函数或递归函数调用。在某个作用域中定义的函数只能在该作用域中访问。"
   ]
  },
  {
   "cell_type": "code",
   "execution_count": null,
   "metadata": {},
   "outputs": [],
   "source": [
    "/** 打印一个由 \"X\" 组成的三角形\n",
    "  * 这是另一种注释方式\n",
    "  */\n",
    "def asciiTriangle(rows: Int) {\n",
    "    \n",
    "    // 这很可爱：将 `\"X\"` 乘以一个数，就能得到一个有许多 `\"X\"` 副本组成的字符串。\n",
    "    def printRow(columns: Int): Unit = println(\"X\" * columns)\n",
    "    \n",
    "    if(rows > 0) {\n",
    "        printRow(rows)\n",
    "        asciiTriangle(rows - 1) // 这里是递归调用\n",
    "    }\n",
    "}\n",
    "\n",
    "// printRow(1) // 这样做是行不通的，因为我们在其作用域外调用 `printRow`\n",
    "asciiTriangle(6)"
   ]
  },
  {
   "cell_type": "markdown",
   "metadata": {},
   "source": [
    "---\n",
    "# Lists 列表\n",
    "\n",
    "Scala实现了各种集合或序列对象。列表很像数组，但支持附加的追加和提取操作。"
   ]
  },
  {
   "cell_type": "code",
   "execution_count": null,
   "metadata": {},
   "outputs": [],
   "source": [
    "val x = 7\n",
    "val y = 14\n",
    "val list1 = List(1, 2, 3)\n",
    "val list2 = x :: y :: y :: Nil       // 汇集成列表的另一种方式\n",
    "\n",
    "val list3 = list1 ++ list2           // 将 list2 拼接到 list1 后面\n",
    "val m = list2.length\n",
    "val s = list2.size\n",
    "\n",
    "val headOfList = list1.head          // 获得列表的第一个元素\n",
    "val restOfList = list1.tail          // 获得一个移除第一个元素后的列表\n",
    "\n",
    "val third = list1(2)                 // 获得列表的第 3 个元素（从 0 开始索引）"
   ]
  },
  {
   "cell_type": "markdown",
   "metadata": {},
   "source": [
    "---\n",
    "# `for` 语句\n",
    "\n",
    "Scala 有 `for` 语句，并且其工作原理和传统的 `for` 一样。你可以在一系列的值上进行迭代。"
   ]
  },
  {
   "cell_type": "code",
   "execution_count": null,
   "metadata": {},
   "outputs": [],
   "source": [
    "for (i <- 0 to 7) { print(i + \" \") }\n",
    "println()"
   ]
  },
  {
   "cell_type": "markdown",
   "metadata": {},
   "source": [
    "使用 `until` 代替 `to` 来进行从 0 到 6 的迭代 (不包括 7)。 "
   ]
  },
  {
   "cell_type": "code",
   "execution_count": null,
   "metadata": {},
   "outputs": [],
   "source": [
    "for (i <- 0 until 7) { print(i + \" \") }\n",
    "println()"
   ]
  },
  {
   "cell_type": "markdown",
   "metadata": {},
   "source": [
    "添加 `by` 来使用一个固定步长进行迭代。下面代码打印 0 到 10 的所有偶数。"
   ]
  },
  {
   "cell_type": "code",
   "execution_count": null,
   "metadata": {},
   "outputs": [],
   "source": [
    "for(i <- 0 to 10 by 2) { print(i + \" \") }\n",
    "println()"
   ]
  },
  {
   "cell_type": "markdown",
   "metadata": {},
   "source": [
    "如果您有一个某种集合，并且想要访问所有的元素，你可以使用 `for `作为 *迭代器* ，就像在 Java 和 Python 中一样。在这里，我们做一个 4 个随机整数组成的列表，然后将它们相加。"
   ]
  },
  {
   "cell_type": "code",
   "execution_count": null,
   "metadata": {},
   "outputs": [],
   "source": [
    "val randomList = List(scala.util.Random.nextInt(), scala.util.Random.nextInt(), scala.util.Random.nextInt(), scala.util.Random.nextInt())\n",
    "var listSum = 0\n",
    "for (value <- randomList) {\n",
    "  listSum += value\n",
    "}\n",
    "println(\"sum is \" + listSum)"
   ]
  },
  {
   "cell_type": "markdown",
   "metadata": {},
   "source": [
    "Scala 的 `for` 还有很多技巧。它将直观地适用于广泛的传统迭代需求，但它可能是也可能不是最方便的东西。像数组元素的求和这样的操作，通常可以使用丰富的函数系列来更容易地完成，这些函数被称为 *comprehensions*，可以在许多不同的元素集合中使用。后面的模块将提供更多关于 `for` 和相关的内容。"
   ]
  },
  {
   "cell_type": "markdown",
   "metadata": {},
   "source": [
    "---\n",
    "# 阅读 Scala\n",
    "\n",
    "能够阅读 Scala 代码并理解常见的命名惯例、设计模式和最佳实践是成为一个有效的 Chisel 设计师的重要一步。代码重用的潜力是 Chisel 的优势之一，但如果你不能阅读别人的代码，重用就很困难。有效地解析别人的代码也能让你更容易地寻求帮助，尤其是使用 StackOverflow 这样的资源。\n",
    "\n",
    "以下部分展示了你会看到的常见代码模式。"
   ]
  },
  {
   "cell_type": "markdown",
   "metadata": {},
   "source": [
    "---\n",
    "# Packages and Imports 包和调包 \n",
    "\n",
    "```scala\n",
    "package mytools\n",
    "class Tool1 { ... }\n",
    "```\n",
    "\n",
    "在外部引用包含上述行的文件中定义的代码时，应该使用：\n",
    " \n",
    "```scala\n",
    "import mytools.Tool1\n",
    "```\n",
    "\n",
    "注意：软件包名称应该与目录层次结构相匹配。这并不是强制性的，但如果不遵守这条准则，会产生一些不寻常的、难以诊断的问题。按照惯例，包名应该是小写的，并且不包含下划线等分隔符。这有时会使找到好的描述性名称变得困难。一种方法是增加一层层次结构，例如包 `good.tools`。尽力而为吧。Chisel 本身也会对不符合这些规则的包名玩一些游戏。\n",
    "\n",
    "如上所示， `import` statements 语句告知编译器你正在使用一些额外的库。在 Chisel 编程时，你会用到一些常见的导入语句：\n",
    "\n",
    "```scala\n",
    "import chisel3._\n",
    "import chisel3.iotesters.{ChiselFlatSpec, Driver, PeekPokeTester}\n",
    "```\n",
    "\n",
    "第一行导入 `chisel3` 包中的所有类和方法；这里的下划线是通配符。第二行是导入 `chisel3.iotesters` 包中的特定类。"
   ]
  },
  {
   "cell_type": "markdown",
   "metadata": {},
   "source": [
    "---\n",
    "# Scala 是一种面向对象语言\n",
    "\n",
    "Scala 是面向对象的，要想最大限度地利用 Scala 和 Chisel 的优势，了解一些这方面的知识是很重要的。请注意，毫无疑问，有不止一种方式来描述这一切。\n",
    "1. 变量是对象。\n",
    "2. Scala 的 val 声明式意义上的常量也是对象。\n",
    "3. 即使是字面值也是对象。\n",
    "4. 甚至函数本身也是对象。后面会详细介绍。\n",
    "5. 对象是类的实例。\n",
    "  1. 事实上，在 Scala 中几乎所有重要的方面，`面向对象` 中的 `对象` 都会被称为 **实例**。\n",
    "6. 在定义类的时候，程序员会指定:\n",
    "  1. 与类相关的数据（`val`，`var`）。\n",
    "  2. 类的实例可以执行的操作，称为方法或函数。\n",
    "7. 类可以扩展其他类。\n",
    "  1. 被扩展的类是超类，扩展者是子类。\n",
    "  2. 在这种情况下，子类继承了超类的数据和方法。\n",
    "  3. 一个类可以扩展或覆盖继承的属性，有许多有用但可控的方法。\n",
    "8. 类可以从特质 `trait` 中继承。把特质看作是轻量级的类，它允许特定的、有限的方式从多个超类继承。\n",
    "9. (Singleton) 对象是 Scala 类的一种特殊类型。\n",
    "  1. 它们不是上面的对象。记住，我们称它们实例。\n",
    "\n",
    "我们即将看看如何在Scala中创建一个类。"
   ]
  },
  {
   "cell_type": "markdown",
   "metadata": {},
   "source": [
    "---\n",
    "# 一个类的示例\n",
    "创建一个 Scala 类的示例如下"
   ]
  },
  {
   "cell_type": "code",
   "execution_count": null,
   "metadata": {},
   "outputs": [],
   "source": [
    "// WrapCounter 计数到一个比特位数对应的最大值\n",
    "class WrapCounter(counterBits: Int) {\n",
    "\n",
    "  val max: Long = (1 << counterBits) - 1\n",
    "  var counter = 0L\n",
    "    \n",
    "  def inc(): Long = {\n",
    "    counter = counter + 1\n",
    "    if (counter > max) {\n",
    "        counter = 0\n",
    "    }\n",
    "    counter\n",
    "  }\n",
    "  println(s\"counter created with max value $max\")\n",
    "}\n"
   ]
  },
  {
   "cell_type": "markdown",
   "metadata": {},
   "source": [
    "这些是什么？\n",
    "\n",
    "- `class WrapCounter` -- 这是 **WrapCounter** 的定义。\n",
    "- `(counterBits: Int)` -- 创建一个 WrapCounter 需要的一个整数参数，良好的命名表明它是计数器的位宽。\n",
    "- 大括号 `{}` 限定了一个代码块。大多数类使用代码块来定义变量、常量和方法（函数）。\n",
    "- `val max: Long =` -- 类中包含一个成员变量 `max`，声明为 `Long` 类型，并在创建类时初始化。\n",
    "- `(1 << counterBits) - 1` 计算 `counterBits` 位中可以包含的最大值。因为 `max` 是用 `val` 创建的，所以不能改变。\n",
    "- 创建一个变量计数器，初始化为 `0L`。`L` 表示 `0` 是一个 `Long` 类型，因此，计数器被推断为 `Long`。\n",
    "- `max` 和 `counter` 通常被称为类的成员变量。\n",
    "- 定义了一个类方法 `inc`，它不接受参数，返回一个 `Long` 值。\n",
    "- `inc` 的主体是一个代码块，内容为：\n",
    "  - `counter = counter + 1` 使 `counter` 递增。\n",
    "  - `if (counter > max) { counter = 0 }` 测试 `counter` 是否大于最大值，如果大于，则将其置回零。\n",
    "  - `counter` -- 最后一行很重要\n",
    "    - 任何表示为代码块最后一行的值都被认为是该代码块的返回值。该返回值可以被调用语句使用或忽略。\n",
    "    - 这一点适用于相当普遍的情况；例如，由于 `if-else` 语句用代码块定义了它的 true 和 false 子句，所以它可以返回一个值，即 `val result = if (10 * 10 > 90) \"greater\" else \"lesser\"` 将创建一个值为 \"greater\" 的 `val`。\n",
    "  - 所以在本例中函数 `inc` 返回 `counter` 的值.\n",
    "- `println(s\"counter created with max value $max\")` 打印一个字符串到标准输出。因为 `println` 直接在定义代码块中，所以它是类初始化代码的一部分，每次创建这个类的实例时，都会运行，即打印出字符串。\n",
    "- 在这种情况下，打印出来的字符串是一个 _内插_ 字符串。\n",
    "  - 第一个双引号前面的 `s` 标识了这是一个内插字符串。\n",
    "  - 内插字符串在运行时被处理。\n",
    "  - `$max` 被替换为 `max` 的值。\n",
    "  - 如果 `$` 后面跟了一个代码块，则该代码块中可以有任意 Scala 语句。\n",
    "    - 例如 **`println(s\"doubled max is ${max + max}\")`**。\n",
    "    - 代码块的返回值将被插入到 `${...}` 的位置。\n",
    "    - 如果返回值不是字符串，它将被转换为字符串；实际上scala中的每个类或类型都有一个隐式转换为字符串的定义\n",
    "  - 一般来说，您应该避免在每次创建一个类的实例时打印一些东西，以避免淹没标准输出，除非您在调试。"
   ]
  },
  {
   "cell_type": "markdown",
   "metadata": {},
   "source": [
    "---\n",
    "# 创建一个类的实例\n",
    "让我们用上面的例子来创建一个类。Scala 实例是通过内置的神奇关键字 `new` 来创建的。"
   ]
  },
  {
   "cell_type": "code",
   "execution_count": null,
   "metadata": {},
   "outputs": [],
   "source": [
    "val x = new WrapCounter(2)"
   ]
  },
  {
   "cell_type": "markdown",
   "metadata": {},
   "source": [
    "你可能会看到在创建实例时没有使用关键字 `new`，即 `val y = WrapCounter(6)`。这种情况经常发生，值得特别注意，但需要使用一个配套对象。后面会介绍。\n",
    "\n",
    "接下来给出刚刚创建的实例的使用方法。（试着将下面的单元格运行两次。）"
   ]
  },
  {
   "cell_type": "code",
   "execution_count": null,
   "metadata": {},
   "outputs": [],
   "source": [
    "x.inc() // 递增计数器\n",
    "\n",
    "// 实例 x 的成员变量对外可见，除非它们被声明为 `private`\n",
    "if(x.counter == x.max) {              \n",
    "    println(\"counter is about to wrap\")\n",
    "}\n",
    "\n",
    "x inc() // Scala 允许省略句点，这对于使嵌入式 DSL 看起来更自然很有用"
   ]
  },
  {
   "cell_type": "markdown",
   "metadata": {},
   "source": [
    "---\n",
    "# 代码块\n",
    "\n",
    "代码块由大括号分隔。一个代码块可以包含零行或多行Scala代码。最后一行Scala代码成为代码块的返回值（可以忽略）。一个没有行的代码块会返回一个特殊的空型对象，称为 `Unit`。代码块在整个 Scala 中都有使用：它们是类定义的主体，它们构成函数和方法定义，它们是 `if` 语句的子句，它们是 `for` 和许多其他 Scala 操作符的主体。\n",
    "\n",
    "## 参数化代码块\n",
    "代码块可以接受参数。在类和方法定义的情况下，这些参数看起来像大多数传统编程语言中的参数。在下面的例子中，`c` 和 `s` 是代码块的参数。"
   ]
  },
  {
   "cell_type": "code",
   "execution_count": null,
   "metadata": {},
   "outputs": [],
   "source": [
    "// 单行代码块不需要使用大括号 {} 包裹\n",
    "def add1(c: Int): Int = c + 1\n",
    "\n",
    "class RepeatString(s: String) {\n",
    "  val repeatedString = s + s\n",
    "}"
   ]
  },
  {
   "cell_type": "markdown",
   "metadata": {},
   "source": [
    "**重要**：还有一种方法可以对代码块进行参数化。下面是一个例子。"
   ]
  },
  {
   "cell_type": "code",
   "execution_count": null,
   "metadata": {},
   "outputs": [],
   "source": [
    "val intList = List(1, 2, 3)\n",
    "val stringList = intList.map { i =>\n",
    "  i.toString\n",
    "}"
   ]
  },
  {
   "cell_type": "markdown",
   "metadata": {},
   "source": [
    "代码块被传递给类 List 的方法 `map`。`map` 方法要求其代码块有一个单一的参数。代码块对 List 中的每个成员都会被调用，代码块返回该成员转换为一个 String。Scala 几乎过分接受这种语法的变化。你可能会看到这种写法有很多不同的方式。这种类型的代码块被称为匿名函数，关于匿名函数的更多细节将在后面的模块中提供。"
   ]
  },
  {
   "cell_type": "markdown",
   "metadata": {},
   "source": [
    "这里的目标是帮助您在遇到不同的记号类型时识别它们。随着您使用Scala，这些类型会显得更加舒适和熟悉。作者们往往倾向于特定的风格，而且在个别语法情况下，一种记法会显得更加自然。单行倾向于使用更简洁的形式。复杂的块通常具有更多的样貌。为了使协作更容易，应该考虑浏览 [Scala Style Guide](http://docs.scala-lang.org/style/)中的最佳实践。"
   ]
  },
  {
   "cell_type": "markdown",
   "metadata": {},
   "source": [
    "---\n",
    "# 命名参数和参数默认值\n",
    "\n",
    "考虑以下方法定义\n",
    "\n",
    "```scala\n",
    "def myMethod(count: Int, wrap: Boolean, wrapValue: Int = 24): Unit = { ... }\n",
    "```\n",
    "\n",
    "当调用方法时，你会经常看到参数名和传入的值.\n",
    "\n",
    "```scala\n",
    "myMethod(count = 10, wrap = false, wrapValue = 23)\n",
    "```\n",
    "\n",
    "使用命名参数，你甚至可以用不同的顺序调用函数。\n",
    "\n",
    "```scala\n",
    "myMethod(wrapValue = 23, wrap = false, count = 10)\n",
    "```\n",
    "\n",
    "对于经常调用的方法，参数排序可能是显而易见的。但是对于不常见的方法，尤其是布尔参数，将名称与调用一起包含，可以使你的代码更易读。如果方法有一长串相同类型的参数，使用名称也可以减少出错的机会。类定义的参数也使用这种命名参数方案（它们实际上只是类的构造函数方法的参数）。\n",
    "\n",
    "当某些参数有默认值（不需要被覆盖）时，调用者只需要传递（用名字）不使用默认值的特定参数。注意，参数 `wrapValue` 的默认值为 24。因此\n",
    "\n",
    "```scala\n",
    "myMethod(wrap = false, count = 10)\n",
    "```\n",
    "\n",
    "将会像传入 24 一样工作。"
   ]
  },
  {
   "cell_type": "markdown",
   "metadata": {},
   "source": [
    "---\n",
    "# 你完成了模块一!\n",
    "\n",
    "[回到顶部](#top)"
   ]
  }
 ],
 "metadata": {
  "kernelspec": {
   "display_name": "Scala",
   "language": "scala",
   "name": "scala"
  },
  "language_info": {
   "codemirror_mode": "text/x-scala",
   "file_extension": ".scala",
   "mimetype": "text/x-scala",
   "name": "scala",
   "nbconvert_exporter": "script",
   "version": "2.12.8"
  }
 },
 "nbformat": 4,
 "nbformat_minor": 2
}